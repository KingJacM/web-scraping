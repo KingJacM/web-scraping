{
 "cells": [
  {
   "cell_type": "code",
   "execution_count": null,
   "metadata": {},
   "outputs": [],
   "source": [
    "from bs4 import BeautifulSoup as bs  # import库\n"
   ]
  },
  {
   "cell_type": "code",
   "execution_count": null,
   "metadata": {},
   "outputs": [],
   "source": [
    "import urllib.request as url"
   ]
  },
  {
   "cell_type": "code",
   "execution_count": null,
   "metadata": {},
   "outputs": [],
   "source": [
    "quote_page = \"http://bbs.skykiwi.com/forum.php?mod=forumdisplay&fid=55&typeid=488&filter=typeid&page=5\" #想要爬取的父页面"
   ]
  },
  {
   "cell_type": "code",
   "execution_count": null,
   "metadata": {},
   "outputs": [],
   "source": [
    "page = url.urlopen(quote_page) "
   ]
  },
  {
   "cell_type": "code",
   "execution_count": null,
   "metadata": {},
   "outputs": [],
   "source": [
    "soup = bs(page, \"html.parser\") #爬取html标记内容\n",
    "print(soup)"
   ]
  },
  {
   "cell_type": "code",
   "execution_count": null,
   "metadata": {},
   "outputs": [],
   "source": [
    "article_link = soup.find_all(\"a\") #选择所有的a标签"
   ]
  },
  {
   "cell_type": "code",
   "execution_count": null,
   "metadata": {},
   "outputs": [],
   "source": [
    "print(article_link) #确认一下"
   ]
  },
  {
   "cell_type": "code",
   "execution_count": null,
   "metadata": {},
   "outputs": [],
   "source": [
    "lin = 0 #搞个counter\n",
    "links = [] #准备一个list"
   ]
  },
  {
   "cell_type": "code",
   "execution_count": null,
   "metadata": {},
   "outputs": [],
   "source": [
    "while lin < len(article_link):\n",
    "    \n",
    "    link = article_link[lin].get(\"href\")  # 循环，拿到所有链接内容\n",
    "    if link is None: #过滤\n",
    "        pass\n",
    "    elif \"forum.php?mod=viewthread\" not in link:  # 只要帖子链接\n",
    "        pass\n",
    "    elif \"bbs\" not in link:\n",
    "        links.append(\"http://bbs.skykiwi.com/\"+link) #链接有缺失就在前面加上bbs.skykiwi\n",
    "    else:\n",
    "          # 放入一个list\n",
    "        links.append(link)\n",
    "        print(\"网页第{}个链接抓取成功\".format(lin))#告知用户\n",
    "    lin += 1 #循环\n",
    "\n",
    "#确认链接\n",
    "print(links)\n",
    "number_of_links = len(links)\n",
    "#ok good, all the links are here."
   ]
  },
  {
   "cell_type": "code",
   "execution_count": null,
   "metadata": {},
   "outputs": [],
   "source": [
    "#设置一个可以放置文章的var\n",
    "wenzhang = \"\"\n",
    "paragraph_no = 0 #counter"
   ]
  },
  {
   "cell_type": "code",
   "execution_count": null,
   "metadata": {},
   "outputs": [],
   "source": [
    "#爬取链接中的文章（子页面）\n",
    "\n",
    "for i in range(0, number_of_links):\n",
    "\n",
    "    #初始抓取\n",
    "    quote_page = str(links[i]) #遍历所有链接\n",
    "\n",
    "    page = url.urlopen(quote_page)\n",
    "\n",
    "    soup = bs(page, \"html.parser\")#同上\n",
    "\n",
    "    article = soup.select(\".td-content\") #查找所有class为__的元素\n",
    "    # print(\"\"\"第{}篇文章正在抓取------------------------------------------------\"\"\".format(i+1))\n",
    "\n",
    "    # wenzhang = \"\"\n",
    "    #抓取段落\n",
    "    for paragraph in range(0, len(article)):\n",
    "#         if \"@\" not in str(article[paragraph].get_text()): #过滤\n",
    "#             pass\n",
    "        if str(article[paragraph].get_text()) in wenzhang: #一堆过滤，仅供参考\n",
    "            pass\n",
    "        elif \"工资\" in str(article[paragraph].get_text()):\n",
    "            pass\n",
    "        elif \"职\" in str(article[paragraph].get_text()):\n",
    "            pass\n",
    "        elif \"pm\" in str(article[paragraph].get_text()):\n",
    "            pass\n",
    "        elif \"奥克兰\" in str(article[paragraph].get_text()):\n",
    "            pass\n",
    "        elif \"@\" in str(article[paragraph].get_text()):\n",
    "            wenzhang += str(article[paragraph].get_text())#放入储存\n",
    "            wenzhang += \"\\n --------------\"\n",
    "            wenzhang += \"\\n\"\n",
    "        else:\n",
    "            wenzhang += str(article[paragraph].get_text())#放入储存\n",
    "            wenzhang += \"\\n\"\n",
    "        paragraph += 1\n",
    "    # print(wenzhang)#打印\n",
    "    # print(\"第{}篇文章抓取成功--------------------------------------------------\".format(i+1))#告知用户\n",
    "    \n",
    "    #去往下一个链接\n",
    "\n",
    "    \n",
    "print(\"done\")"
   ]
  },
  {
   "cell_type": "code",
   "execution_count": null,
   "metadata": {
    "scrolled": true
   },
   "outputs": [],
   "source": [
    "print(wenzhang)"
   ]
  },
  {
   "cell_type": "code",
   "execution_count": null,
   "metadata": {},
   "outputs": [],
   "source": []
  }
 ],
 "metadata": {
  "kernelspec": {
   "display_name": "Python 3",
   "language": "python",
   "name": "python3"
  },
  "language_info": {
   "codemirror_mode": {
    "name": "ipython",
    "version": 3
   },
   "file_extension": ".py",
   "mimetype": "text/x-python",
   "name": "python",
   "nbconvert_exporter": "python",
   "pygments_lexer": "ipython3",
   "version": "3.7.4"
  }
 },
 "nbformat": 4,
 "nbformat_minor": 4
}
